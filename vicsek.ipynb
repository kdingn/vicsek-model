{
 "cells": [
  {
   "cell_type": "code",
   "execution_count": 17,
   "metadata": {},
   "outputs": [],
   "source": [
    "import pandas as pd\n",
    "import numpy as np\n",
    "import matplotlib.pyplot as plt\n",
    "from tqdm import tqdm"
   ]
  },
  {
   "cell_type": "code",
   "execution_count": 18,
   "metadata": {},
   "outputs": [],
   "source": [
    "n = 100\n",
    "lx = 1\n",
    "ly = 1\n",
    "v0 = 0.1\n",
    "r = 0.05\n",
    "dt = 0.1\n",
    "t = 0\n",
    "imax = 100\n",
    "eta = np.pi*0.1\n",
    "\n",
    "vars = pd.DataFrame()\n",
    "vars[\"x\"] = np.random.random(n) * lx\n",
    "vars[\"y\"] = np.random.random(n) * ly\n",
    "vars[\"theta\"] = np.random.random(n) * 2 * np.pi"
   ]
  },
  {
   "cell_type": "code",
   "execution_count": 19,
   "metadata": {},
   "outputs": [],
   "source": [
    "def plot_points(vars, t, savei=-1):\n",
    "  plt.rcParams[\"figure.figsize\"] = (6,5)\n",
    "  plt.rcParams[\"font.size\"] = 12\n",
    "  plt.rcParams[\"figure.dpi\"] = 120\n",
    "  plt.xlim(0,lx)\n",
    "  plt.ylim(0,ly)\n",
    "  plt.quiver(vars[\"x\"],vars[\"y\"],v0*np.cos(vars[\"theta\"]),v0*np.sin(vars[\"theta\"]),alpha=0.6)\n",
    "  plt.scatter(vars[\"x\"],vars[\"y\"],alpha=0.4)\n",
    "  plt.grid(True)\n",
    "  plt.title(f\"time : {t:.3f}\")\n",
    "  if savei >= 0:\n",
    "    plt.savefig(f'./img/{savei}.png')\n",
    "  plt.close()"
   ]
  },
  {
   "cell_type": "code",
   "execution_count": 20,
   "metadata": {},
   "outputs": [],
   "source": [
    "def expand_boundary(vars):\n",
    "  varsex = vars.copy()\n",
    "  ## upper left\n",
    "  tmp = vars.copy()\n",
    "  tmp[\"x\"] -= lx\n",
    "  tmp[\"y\"] += ly\n",
    "  tmp = tmp[(tmp[\"x\"] > -r)&(tmp[\"y\"] < ly+r)]\n",
    "  varsex = pd.concat([varsex,tmp])\n",
    "  ## upper middle\n",
    "  tmp = vars.copy()\n",
    "  tmp[\"x\"] += 0\n",
    "  tmp[\"y\"] += ly\n",
    "  tmp = tmp[tmp[\"y\"] < ly+r]\n",
    "  varsex = pd.concat([varsex,tmp])\n",
    "  ## upper right\n",
    "  tmp = vars.copy()\n",
    "  tmp[\"x\"] += lx\n",
    "  tmp[\"y\"] += ly\n",
    "  tmp = tmp[(tmp[\"x\"] < lx+r)&(tmp[\"y\"] < ly+r)]\n",
    "  varsex = pd.concat([varsex,tmp])\n",
    "  ## middle left\n",
    "  tmp = vars.copy()\n",
    "  tmp[\"x\"] -= lx\n",
    "  tmp[\"y\"] += 0\n",
    "  tmp = tmp[tmp[\"x\"] > -r]\n",
    "  varsex = pd.concat([varsex,tmp])\n",
    "  ## middle right\n",
    "  tmp = vars.copy()\n",
    "  tmp[\"x\"] += lx\n",
    "  tmp[\"y\"] += 0\n",
    "  tmp = tmp[tmp[\"x\"] < lx+r]\n",
    "  varsex = pd.concat([varsex,tmp])\n",
    "  ## lower left\n",
    "  tmp = vars.copy()\n",
    "  tmp[\"x\"] -= lx\n",
    "  tmp[\"y\"] -= ly\n",
    "  tmp = tmp[(tmp[\"x\"] > -r)&(tmp[\"y\"] > -r)]\n",
    "  varsex = pd.concat([varsex,tmp])\n",
    "  ## lower middle\n",
    "  tmp = vars.copy()\n",
    "  tmp[\"x\"] += 0\n",
    "  tmp[\"y\"] -= ly\n",
    "  tmp = tmp[tmp[\"y\"] > -r]\n",
    "  varsex = pd.concat([varsex,tmp])\n",
    "  ## lower right\n",
    "  tmp = vars.copy()\n",
    "  tmp[\"x\"] += lx\n",
    "  tmp[\"y\"] -= ly\n",
    "  tmp = tmp[(tmp[\"x\"] < lx+r)&(tmp[\"y\"] > -r)]\n",
    "  varsex = pd.concat([varsex,tmp])\n",
    "  return varsex.reset_index(drop=True)"
   ]
  },
  {
   "cell_type": "code",
   "execution_count": 21,
   "metadata": {},
   "outputs": [],
   "source": [
    "def trim_boundary(vars):\n",
    "  vars = vars[(vars[\"x\"]>=0)&(vars[\"x\"]<=lx)]\n",
    "  vars = vars[(vars[\"y\"]>=0)&(vars[\"y\"]<=ly)]\n",
    "  return vars.reset_index(drop=True)"
   ]
  },
  {
   "cell_type": "code",
   "execution_count": 22,
   "metadata": {},
   "outputs": [],
   "source": [
    "def update_vars(vars, t):\n",
    "  vars = expand_boundary(vars)\n",
    "  matrix = vars[\"x\"].apply(lambda x : (vars[\"x\"]-x)**2) + vars[\"y\"].apply(lambda y : (vars[\"y\"]-y)**2)\n",
    "  matrix = matrix < r**2\n",
    "  matrix = matrix.apply(lambda x : vars[x][\"theta\"])\n",
    "  vars[\"theta\"] = np.angle(np.exp(matrix*1j).mean())\n",
    "  vars[\"theta\"] += (np.random.random(len(vars))-0.5) * eta\n",
    "  vars[\"x\"] += np.cos(vars[\"theta\"]) * v0 * dt\n",
    "  vars[\"y\"] += np.sin(vars[\"theta\"]) * v0 * dt\n",
    "  vars = trim_boundary(vars)\n",
    "  t += dt\n",
    "  return vars, t"
   ]
  },
  {
   "cell_type": "code",
   "execution_count": 24,
   "metadata": {},
   "outputs": [],
   "source": [
    "plot_points(vars, t)"
   ]
  },
  {
   "cell_type": "code",
   "execution_count": 15,
   "metadata": {},
   "outputs": [
    {
     "name": "stderr",
     "output_type": "stream",
     "text": [
      "100%|██████████| 100/100 [00:14<00:00,  6.85it/s]\n"
     ]
    }
   ],
   "source": [
    "plot_points(vars, t, 0)\n",
    "for i in tqdm(range(imax)):\n",
    "  i += 1\n",
    "  vars, t = update_vars(vars, t)\n",
    "  plot_points(vars, t, savei=i)"
   ]
  },
  {
   "cell_type": "code",
   "execution_count": 16,
   "metadata": {},
   "outputs": [],
   "source": [
    "import cv2\n",
    "name                  = \"./img/movie.mp4\"\n",
    "filename              = \"./img/{}.png\"\n",
    "height, width, layers = cv2.imread(filename.format(imax-1)).shape\n",
    "size                  = (width, height)\n",
    "fourcc                = cv2.VideoWriter_fourcc('m', 'p', '4', 'v')\n",
    "fps = 24\n",
    "out = cv2.VideoWriter(name, fourcc, fps, size)\n",
    "\n",
    "for i in range(imax+1):\n",
    "    img = cv2.imread(filename.format(i))\n",
    "    out.write(img)\n",
    "out.release()"
   ]
  },
  {
   "cell_type": "code",
   "execution_count": null,
   "metadata": {},
   "outputs": [],
   "source": []
  },
  {
   "cell_type": "code",
   "execution_count": null,
   "metadata": {},
   "outputs": [],
   "source": []
  }
 ],
 "metadata": {
  "interpreter": {
   "hash": "69317b869426a39a3ce45b61ff0ca3d29fecca1e020828433ad894a4e905f510"
  },
  "kernelspec": {
   "display_name": "Python 3.8.8 64-bit ('base': conda)",
   "language": "python",
   "name": "python3"
  },
  "language_info": {
   "codemirror_mode": {
    "name": "ipython",
    "version": 3
   },
   "file_extension": ".py",
   "mimetype": "text/x-python",
   "name": "python",
   "nbconvert_exporter": "python",
   "pygments_lexer": "ipython3",
   "version": "3.8.8"
  },
  "orig_nbformat": 4
 },
 "nbformat": 4,
 "nbformat_minor": 2
}
